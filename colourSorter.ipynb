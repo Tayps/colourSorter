{
 "cells": [
  {
   "cell_type": "markdown",
   "id": "593df233-d8ab-470c-839a-ef7ab2ed7b7a",
   "metadata": {},
   "source": [
    "# ColourSorter"
   ]
  },
  {
   "cell_type": "code",
   "execution_count": null,
   "id": "a8d4adad-6025-453a-a052-edfd9145a478",
   "metadata": {},
   "outputs": [],
   "source": []
  }
 ],
 "metadata": {
  "kernelspec": {
   "display_name": "Python 3 (ipykernel)",
   "language": "python",
   "name": "python3"
  },
  "language_info": {
   "codemirror_mode": {
    "name": "ipython",
    "version": 3
   },
   "file_extension": ".py",
   "mimetype": "text/x-python",
   "name": "python",
   "nbconvert_exporter": "python",
   "pygments_lexer": "ipython3",
   "version": "3.10.12"
  }
 },
 "nbformat": 4,
 "nbformat_minor": 5
}
