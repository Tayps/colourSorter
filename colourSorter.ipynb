{
 "cells": [
  {
   "cell_type": "markdown",
   "id": "593df233-d8ab-470c-839a-ef7ab2ed7b7a",
   "metadata": {},
   "source": [
    "# ColourSorter"
   ]
  },
  {
   "cell_type": "code",
   "execution_count": 4,
   "id": "b87dd072-b12f-4253-a322-bac0c4067cd0",
   "metadata": {},
   "outputs": [],
   "source": [
    "import numpy as np \n",
    "import random as rand"
   ]
  },
  {
   "cell_type": "code",
   "execution_count": 134,
   "id": "a8d4adad-6025-453a-a052-edfd9145a478",
   "metadata": {},
   "outputs": [
    {
     "name": "stdout",
     "output_type": "stream",
     "text": [
      "[2, 2, 1, 3]\n",
      "[3, 1, 2, 3]\n",
      "[1, 4, 2, 4]\n",
      "[4, 1, 3, 4]\n",
      "[]\n",
      "[]\n"
     ]
    }
   ],
   "source": [
    "# Sorter\n",
    "\n",
    "difficulty = 4\n",
    "\n",
    "frame = []\n",
    "for i in range(1,difficulty+1):\n",
    "    frame.extend([i,i,i,i])\n",
    "rand.shuffle(frame)\n",
    "frame = np.array_split(frame, difficulty)\n",
    "for i in range(len(frame)):\n",
    "    frame[i] = frame[i].tolist()\n",
    "frame.extend([[],[]])\n",
    "\n",
    "print(*frame, sep='\\n')\n"
   ]
  },
  {
   "cell_type": "code",
   "execution_count": 109,
   "id": "cea9eb54-b1f9-4517-8697-29d3e02564fd",
   "metadata": {},
   "outputs": [
    {
     "data": {
      "text/plain": [
       "[[4, 1, 4, 1], [3, 1, 1, 2], [4, 4, 3, 2], [3, 3, 2, 2], [], []]"
      ]
     },
     "execution_count": 109,
     "metadata": {},
     "output_type": "execute_result"
    }
   ],
   "source": [
    "def createFrame(difficulty):\n",
    "    global frame\n",
    "    for i in range(1,difficulty+1):\n",
    "        frame.extend([i,i,i,i])\n",
    "    rand.shuffle(frame)\n",
    "    frame = np.array_split(frame, difficulty)\n",
    "    for i in range(len(frame)):\n",
    "        frame[i] = frame[i].tolist()\n",
    "    frame.extend([[],[]])"
   ]
  },
  {
   "cell_type": "code",
   "execution_count": 191,
   "id": "945c9146-a8d6-4246-af1c-1157a934e30a",
   "metadata": {},
   "outputs": [],
   "source": [
    "def move():\n",
    "    global frame\n",
    "    while True:\n",
    "        origin = int(input('Where do you want to take from?'))\n",
    "        while True:\n",
    "            destination = int(input('Where do you want to put at?'))\n",
    "            if len(frame[destination]) == 4:\n",
    "                print(\"Cannot move to full Row\")\n",
    "            else:\n",
    "                break\n",
    "        if frame[destination] != [] and frame[origin][-1] != frame[destination][-1]:\n",
    "            print(\"Must move to same color\")\n",
    "        else:\n",
    "            break\n",
    "    frame[destination].append(frame[origin].pop(-1))\n",
    "    print(*frame, sep='\\n')"
   ]
  },
  {
   "cell_type": "code",
   "execution_count": 128,
   "id": "bb3147eb-f4a4-40a7-a301-3c7447b0fcc8",
   "metadata": {},
   "outputs": [
    {
     "data": {
      "text/plain": [
       "[[3, 1, 4, 3], [1, 2, 1, 2], [2, 4, 4, 3], [4, 3, 2, 1], [5], [6, 6]]"
      ]
     },
     "execution_count": 128,
     "metadata": {},
     "output_type": "execute_result"
    }
   ],
   "source": [
    "frame[5].append(6)\n",
    "frame"
   ]
  },
  {
   "cell_type": "code",
   "execution_count": 88,
   "id": "f508446d-2eb0-4456-a297-09460247b7ab",
   "metadata": {},
   "outputs": [
    {
     "name": "stdout",
     "output_type": "stream",
     "text": [
      "[4, 1, 1]\n",
      "[2, 4, 3]\n",
      "[4, 2, 2]\n",
      "[3, 3, 3, 4]\n",
      "[1]\n",
      "[1, 2, 5]\n"
     ]
    },
    {
     "name": "stdin",
     "output_type": "stream",
     "text": [
      "Where do you want to take from? 1\n",
      "Where do you want to put at? 1\n"
     ]
    },
    {
     "name": "stdout",
     "output_type": "stream",
     "text": [
      "[4, 1, 1]\n",
      "[2, 4, 3]\n",
      "[4, 2, 2]\n",
      "[3, 3, 3, 4]\n",
      "[1]\n",
      "[1, 2, 5]\n"
     ]
    }
   ],
   "source": [
    "move()"
   ]
  },
  {
   "cell_type": "code",
   "execution_count": 155,
   "id": "f3cac2fa-5298-4bbb-aeb3-1854a291e203",
   "metadata": {},
   "outputs": [
    {
     "data": {
      "text/plain": [
       "False"
      ]
     },
     "execution_count": 155,
     "metadata": {},
     "output_type": "execute_result"
    }
   ],
   "source": [
    "# Check win\n",
    "\n",
    "def checkWin(x):\n",
    "    state = []\n",
    "    for i in x:\n",
    "        if len(i) == 4 or len(i) == 0:\n",
    "            state.append(all(e == i[0] for e in i))\n",
    "        else:\n",
    "            state.append(False)\n",
    "    return all(state)\n",
    "checkWin(frame)"
   ]
  },
  {
   "cell_type": "code",
   "execution_count": 171,
   "id": "6ab51156-4224-4b78-869c-1f06f36df1c9",
   "metadata": {},
   "outputs": [],
   "source": [
    "testFrame = [[1, 2, 1],[3],[2, 1, 1, 2],[3, 3, 3],[2]]"
   ]
  },
  {
   "cell_type": "code",
   "execution_count": 184,
   "id": "e1d37257-9812-4c39-8fd5-3064f30ae71d",
   "metadata": {},
   "outputs": [],
   "source": [
    "# Check Stuck\n",
    "\n",
    "def checkStuck(x):\n",
    "    if any(l == [] for l in x):\n",
    "        return False\n",
    "    else:    \n",
    "        stuck = []\n",
    "        for i in range(len(x)):\n",
    "            \n",
    "            testValue = x[i][-1]\n",
    "            # print(testValue)\n",
    "\n",
    "            testDepth = 0\n",
    "            for p in x[i][-1::-1]:\n",
    "                if p == testValue:\n",
    "                    testDepth += 1\n",
    "                else:\n",
    "                    break\n",
    "            \n",
    "            optionLists = x[:i] + x[i+1:]\n",
    "            \n",
    "            \n",
    "            options = []\n",
    "            optionsDepth = []\n",
    "            for j in optionLists:\n",
    "                optionsDepth.append(4-len(j))\n",
    "                options.append(j[-1])\n",
    "                    \n",
    "            # print(options)\n",
    "            # print(optionsDepth)\n",
    "\n",
    "            stuckOptions = list(testValue == q for q in options)\n",
    "            stuckDepth = list(testDepth <= r for r in optionsDepth)\n",
    "\n",
    "            # print(stuckOptions)\n",
    "            # print(stuckDepth)\n",
    "\n",
    "            state = any(np.logical_and(stuckOptions, stuckDepth))\n",
    "\n",
    "            # print(state)\n",
    "            # print(\"\\n\")\n",
    "            \n",
    "            stuck.append(state)\n",
    "\n",
    "            # print(stuck)\n",
    "        return all(stuck)\n",
    "        \n",
    "# checkStuck(testFrame)"
   ]
  },
  {
   "cell_type": "code",
   "execution_count": 192,
   "id": "c2e49b2f-209e-417e-80a6-1f5d47185be6",
   "metadata": {},
   "outputs": [
    {
     "name": "stdin",
     "output_type": "stream",
     "text": [
      "Select difficulty: 4\n"
     ]
    },
    {
     "name": "stdout",
     "output_type": "stream",
     "text": [
      "[3, 3, 1, 1]\n",
      "[4, 2, 2, 3]\n",
      "[4, 3, 2, 2]\n",
      "[1, 1, 4, 4]\n",
      "[]\n",
      "[]\n"
     ]
    },
    {
     "name": "stdin",
     "output_type": "stream",
     "text": [
      "Where do you want to take from? 0\n",
      "Where do you want to put at? 4\n"
     ]
    },
    {
     "name": "stdout",
     "output_type": "stream",
     "text": [
      "[3, 3, 1]\n",
      "[4, 2, 2, 3]\n",
      "[4, 3, 2, 2]\n",
      "[1, 1, 4, 4]\n",
      "[1]\n",
      "[]\n"
     ]
    },
    {
     "name": "stdin",
     "output_type": "stream",
     "text": [
      "Where do you want to take from? 1\n",
      "Where do you want to put at? 2\n"
     ]
    },
    {
     "name": "stdout",
     "output_type": "stream",
     "text": [
      "Cannot move to full Row\n"
     ]
    },
    {
     "name": "stdin",
     "output_type": "stream",
     "text": [
      "Where do you want to put at? 5\n"
     ]
    },
    {
     "name": "stdout",
     "output_type": "stream",
     "text": [
      "[3, 3, 1]\n",
      "[4, 2, 2]\n",
      "[4, 3, 2, 2]\n",
      "[1, 1, 4, 4]\n",
      "[1]\n",
      "[3]\n"
     ]
    },
    {
     "name": "stdin",
     "output_type": "stream",
     "text": [
      "Where do you want to take from? 1\n",
      "Where do you want to put at? 4\n"
     ]
    },
    {
     "name": "stdout",
     "output_type": "stream",
     "text": [
      "Must move to same color\n"
     ]
    },
    {
     "name": "stdin",
     "output_type": "stream",
     "text": [
      "Where do you want to take from? 0\n",
      "Where do you want to put at? 4\n"
     ]
    },
    {
     "name": "stdout",
     "output_type": "stream",
     "text": [
      "[3, 3]\n",
      "[4, 2, 2]\n",
      "[4, 3, 2, 2]\n",
      "[1, 1, 4, 4]\n",
      "[1, 1]\n",
      "[3]\n"
     ]
    },
    {
     "name": "stdin",
     "output_type": "stream",
     "text": [
      "Where do you want to take from? 5\n",
      "Where do you want to put at? 0\n"
     ]
    },
    {
     "name": "stdout",
     "output_type": "stream",
     "text": [
      "[3, 3, 3]\n",
      "[4, 2, 2]\n",
      "[4, 3, 2, 2]\n",
      "[1, 1, 4, 4]\n",
      "[1, 1]\n",
      "[]\n"
     ]
    },
    {
     "name": "stdin",
     "output_type": "stream",
     "text": [
      "Where do you want to take from? 1\n",
      "Where do you want to put at? 5\n"
     ]
    },
    {
     "name": "stdout",
     "output_type": "stream",
     "text": [
      "[3, 3, 3]\n",
      "[4, 2]\n",
      "[4, 3, 2, 2]\n",
      "[1, 1, 4, 4]\n",
      "[1, 1]\n",
      "[2]\n"
     ]
    },
    {
     "name": "stdin",
     "output_type": "stream",
     "text": [
      "Where do you want to take from? 1\n",
      "Where do you want to put at? 5\n"
     ]
    },
    {
     "name": "stdout",
     "output_type": "stream",
     "text": [
      "[3, 3, 3]\n",
      "[4]\n",
      "[4, 3, 2, 2]\n",
      "[1, 1, 4, 4]\n",
      "[1, 1]\n",
      "[2, 2]\n"
     ]
    },
    {
     "name": "stdin",
     "output_type": "stream",
     "text": [
      "Where do you want to take from? 3\n",
      "Where do you want to put at? 1\n"
     ]
    },
    {
     "name": "stdout",
     "output_type": "stream",
     "text": [
      "[3, 3, 3]\n",
      "[4, 4]\n",
      "[4, 3, 2, 2]\n",
      "[1, 1, 4]\n",
      "[1, 1]\n",
      "[2, 2]\n"
     ]
    },
    {
     "name": "stdin",
     "output_type": "stream",
     "text": [
      "Where do you want to take from? 3\n",
      "Where do you want to put at? 1\n"
     ]
    },
    {
     "name": "stdout",
     "output_type": "stream",
     "text": [
      "[3, 3, 3]\n",
      "[4, 4, 4]\n",
      "[4, 3, 2, 2]\n",
      "[1, 1]\n",
      "[1, 1]\n",
      "[2, 2]\n"
     ]
    },
    {
     "name": "stdin",
     "output_type": "stream",
     "text": [
      "Where do you want to take from? 2\n",
      "Where do you want to put at? 0\n"
     ]
    },
    {
     "name": "stdout",
     "output_type": "stream",
     "text": [
      "Must move to same color\n"
     ]
    },
    {
     "name": "stdin",
     "output_type": "stream",
     "text": [
      "Where do you want to take from? 2\n",
      "Where do you want to put at? 5\n"
     ]
    },
    {
     "name": "stdout",
     "output_type": "stream",
     "text": [
      "[3, 3, 3]\n",
      "[4, 4, 4]\n",
      "[4, 3, 2]\n",
      "[1, 1]\n",
      "[1, 1]\n",
      "[2, 2, 2]\n"
     ]
    },
    {
     "name": "stdin",
     "output_type": "stream",
     "text": [
      "Where do you want to take from? 2\n",
      "Where do you want to put at? 5\n"
     ]
    },
    {
     "name": "stdout",
     "output_type": "stream",
     "text": [
      "[3, 3, 3]\n",
      "[4, 4, 4]\n",
      "[4, 3]\n",
      "[1, 1]\n",
      "[1, 1]\n",
      "[2, 2, 2, 2]\n"
     ]
    },
    {
     "name": "stdin",
     "output_type": "stream",
     "text": [
      "Where do you want to take from? 2\n",
      "Where do you want to put at? 0\n"
     ]
    },
    {
     "name": "stdout",
     "output_type": "stream",
     "text": [
      "[3, 3, 3, 3]\n",
      "[4, 4, 4]\n",
      "[4]\n",
      "[1, 1]\n",
      "[1, 1]\n",
      "[2, 2, 2, 2]\n"
     ]
    },
    {
     "name": "stdin",
     "output_type": "stream",
     "text": [
      "Where do you want to take from? 2\n",
      "Where do you want to put at? 1\n"
     ]
    },
    {
     "name": "stdout",
     "output_type": "stream",
     "text": [
      "[3, 3, 3, 3]\n",
      "[4, 4, 4, 4]\n",
      "[]\n",
      "[1, 1]\n",
      "[1, 1]\n",
      "[2, 2, 2, 2]\n"
     ]
    },
    {
     "name": "stdin",
     "output_type": "stream",
     "text": [
      "Where do you want to take from? 3\n",
      "Where do you want to put at? 4\n"
     ]
    },
    {
     "name": "stdout",
     "output_type": "stream",
     "text": [
      "[3, 3, 3, 3]\n",
      "[4, 4, 4, 4]\n",
      "[]\n",
      "[1]\n",
      "[1, 1, 1]\n",
      "[2, 2, 2, 2]\n"
     ]
    },
    {
     "name": "stdin",
     "output_type": "stream",
     "text": [
      "Where do you want to take from? 3\n",
      "Where do you want to put at? 4\n"
     ]
    },
    {
     "name": "stdout",
     "output_type": "stream",
     "text": [
      "[3, 3, 3, 3]\n",
      "[4, 4, 4, 4]\n",
      "[]\n",
      "[]\n",
      "[1, 1, 1, 1]\n",
      "[2, 2, 2, 2]\n",
      "You won in 14 steps!\n"
     ]
    }
   ],
   "source": [
    "# Full Game Loop\n",
    "\n",
    "diff = input('Select difficulty:')\n",
    "frame = []\n",
    "steps = 0\n",
    "createFrame(int(diff))\n",
    "print(*frame, sep='\\n')\n",
    "while True:\n",
    "    move()\n",
    "    steps += 1\n",
    "    if checkWin(frame):\n",
    "        print('You won in ' + str(steps) + ' steps!')\n",
    "        break\n",
    "    if checkStuck(frame):\n",
    "        print('No more moves, you lose')\n",
    "        break"
   ]
  }
 ],
 "metadata": {
  "kernelspec": {
   "display_name": "Python 3 (ipykernel)",
   "language": "python",
   "name": "python3"
  },
  "language_info": {
   "codemirror_mode": {
    "name": "ipython",
    "version": 3
   },
   "file_extension": ".py",
   "mimetype": "text/x-python",
   "name": "python",
   "nbconvert_exporter": "python",
   "pygments_lexer": "ipython3",
   "version": "3.10.12"
  }
 },
 "nbformat": 4,
 "nbformat_minor": 5
}
